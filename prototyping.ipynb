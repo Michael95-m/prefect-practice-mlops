{
 "cells": [
  {
   "cell_type": "code",
   "execution_count": 1,
   "id": "228d5239",
   "metadata": {},
   "outputs": [
    {
     "name": "stderr",
     "output_type": "stream",
     "text": [
      "/home/mk/anaconda3/envs/mlops-venv/lib/python3.9/site-packages/tqdm/auto.py:21: TqdmWarning: IProgress not found. Please update jupyter and ipywidgets. See https://ipywidgets.readthedocs.io/en/stable/user_install.html\n",
      "  from .autonotebook import tqdm as notebook_tqdm\n"
     ]
    }
   ],
   "source": [
    "import pandas as pd\n",
    "import numpy as np\n",
    "\n",
    "from sklearn.linear_model import LogisticRegression\n",
    "from sklearn.ensemble import RandomForestClassifier\n",
    "from sklearn.feature_extraction import DictVectorizer\n",
    "from sklearn.metrics import f1_score, roc_auc_score, precision_score, recall_score\n",
    "from sklearn.pipeline import Pipeline\n",
    "from sklearn.preprocessing import StandardScaler, OneHotEncoder\n",
    "from sklearn.compose import ColumnTransformer\n",
    "from sklearn.model_selection import train_test_split\n",
    "\n",
    "import xgboost as xgb\n",
    "import os\n",
    "\n",
    "import mlflow\n",
    "from mlflow.models.signature import infer_signature\n",
    "import optuna\n",
    "import pickle"
   ]
  },
  {
   "cell_type": "markdown",
   "id": "79be0687",
   "metadata": {},
   "source": [
    "## data loading"
   ]
  },
  {
   "cell_type": "code",
   "execution_count": 2,
   "id": "0672a0c2",
   "metadata": {},
   "outputs": [],
   "source": [
    "df = pd.read_csv(\"data/raw/diabetes_prediction_dataset.csv\")"
   ]
  },
  {
   "cell_type": "code",
   "execution_count": 3,
   "id": "912b8654",
   "metadata": {},
   "outputs": [],
   "source": [
    "train, test_val = train_test_split(df, test_size=0.25, random_state=42)"
   ]
  },
  {
   "cell_type": "code",
   "execution_count": 4,
   "id": "b9be7120",
   "metadata": {},
   "outputs": [],
   "source": [
    "valid, test = train_test_split(test_val, test_size=0.5, random_state=42)"
   ]
  },
  {
   "cell_type": "code",
   "execution_count": 5,
   "id": "ba21342f",
   "metadata": {},
   "outputs": [],
   "source": [
    "os.makedirs(\"data/processed\", exist_ok=True)"
   ]
  },
  {
   "cell_type": "code",
   "execution_count": 6,
   "id": "4379bfe4",
   "metadata": {},
   "outputs": [],
   "source": [
    "train.to_parquet(\"data/processed/train.parquet\", index=False)\n",
    "valid.to_parquet(\"data/processed/valid.parquet\", index=False)\n",
    "test.to_parquet(\"data/processed/test.parquet\", index=False)"
   ]
  },
  {
   "cell_type": "markdown",
   "id": "9237e9ca",
   "metadata": {},
   "source": [
    "## Prepare features"
   ]
  },
  {
   "cell_type": "code",
   "execution_count": 7,
   "id": "7561141c",
   "metadata": {},
   "outputs": [],
   "source": [
    "target_var = \"diabetes\""
   ]
  },
  {
   "cell_type": "code",
   "execution_count": 8,
   "id": "1c1be0e4",
   "metadata": {},
   "outputs": [],
   "source": [
    "cat_vars = [col for col in train.columns.values if train[col].dtype == \"O\" and col != target_var]"
   ]
  },
  {
   "cell_type": "code",
   "execution_count": 9,
   "id": "25964645",
   "metadata": {},
   "outputs": [
    {
     "data": {
      "text/plain": [
       "['gender', 'smoking_history']"
      ]
     },
     "execution_count": 9,
     "metadata": {},
     "output_type": "execute_result"
    }
   ],
   "source": [
    "cat_vars"
   ]
  },
  {
   "cell_type": "code",
   "execution_count": 10,
   "id": "a1f639b7",
   "metadata": {},
   "outputs": [],
   "source": [
    "num_vars = [col for col in train.columns.values if train[col].dtype in [\"int64\", \"float64\"] and col != target_var]"
   ]
  },
  {
   "cell_type": "code",
   "execution_count": 11,
   "id": "ee3ef0f8",
   "metadata": {},
   "outputs": [
    {
     "data": {
      "text/plain": [
       "['age',\n",
       " 'hypertension',\n",
       " 'heart_disease',\n",
       " 'bmi',\n",
       " 'HbA1c_level',\n",
       " 'blood_glucose_level']"
      ]
     },
     "execution_count": 11,
     "metadata": {},
     "output_type": "execute_result"
    }
   ],
   "source": [
    "num_vars"
   ]
  },
  {
   "cell_type": "markdown",
   "id": "394391dd",
   "metadata": {},
   "source": [
    "## Prepare data"
   ]
  },
  {
   "cell_type": "code",
   "execution_count": 12,
   "id": "fa95e36d",
   "metadata": {},
   "outputs": [],
   "source": [
    "x_train = train.drop(target_var, axis=1)\n",
    "y_train = train[target_var]"
   ]
  },
  {
   "cell_type": "code",
   "execution_count": 13,
   "id": "19c2f005",
   "metadata": {},
   "outputs": [],
   "source": [
    "x_valid = valid.drop(target_var, axis=1)\n",
    "y_valid = valid[target_var]"
   ]
  },
  {
   "cell_type": "markdown",
   "id": "0f0926ec",
   "metadata": {},
   "source": [
    "## Preprocessing"
   ]
  },
  {
   "cell_type": "code",
   "execution_count": 14,
   "id": "4a1a84eb",
   "metadata": {},
   "outputs": [],
   "source": [
    "dv = DictVectorizer()"
   ]
  },
  {
   "cell_type": "code",
   "execution_count": 15,
   "id": "36cbc930",
   "metadata": {},
   "outputs": [],
   "source": [
    "train_dict = x_train.to_dict(orient=\"records\")\n",
    "val_dict = x_valid.to_dict(orient=\"records\")"
   ]
  },
  {
   "cell_type": "code",
   "execution_count": 16,
   "id": "55a9d262",
   "metadata": {},
   "outputs": [],
   "source": [
    "X_train = dv.fit_transform(train_dict)\n",
    "X_valid = dv.transform(val_dict)"
   ]
  },
  {
   "cell_type": "code",
   "execution_count": 17,
   "id": "0f16cda2",
   "metadata": {},
   "outputs": [],
   "source": [
    "save_dv = True \n",
    "\n",
    "if save_dv:\n",
    "    os.makedirs(\"models\", exist_ok=True)\n",
    "    with open(\"models/preprocessor.b\", \"wb\") as f:\n",
    "        pickle.dump(dv, f)"
   ]
  },
  {
   "cell_type": "markdown",
   "id": "bdc1da29",
   "metadata": {},
   "source": [
    "## Modeling"
   ]
  },
  {
   "cell_type": "markdown",
   "id": "5d446a51",
   "metadata": {},
   "source": [
    "### Setting mlflow server"
   ]
  },
  {
   "cell_type": "code",
   "execution_count": 18,
   "id": "605e9eba",
   "metadata": {},
   "outputs": [
    {
     "name": "stderr",
     "output_type": "stream",
     "text": [
      "2023/07/18 15:51:18 INFO mlflow.tracking.fluent: Experiment with name 'prototype' does not exist. Creating a new experiment.\n"
     ]
    },
    {
     "data": {
      "text/plain": [
       "<Experiment: artifact_location='/home/mk/Playground/my_contrib/prefect-practice-mlops/mlruns/1', creation_time=1689672078862, experiment_id='1', last_update_time=1689672078862, lifecycle_stage='active', name='prototype', tags={}>"
      ]
     },
     "execution_count": 18,
     "metadata": {},
     "output_type": "execute_result"
    }
   ],
   "source": [
    "mlflow.set_tracking_uri(\"sqlite:///backend.db\")\n",
    "mlflow.set_experiment(\"prototype\")"
   ]
  },
  {
   "cell_type": "markdown",
   "id": "799a3f1b",
   "metadata": {},
   "source": [
    "### Hyperparameter tuning of random forest"
   ]
  },
  {
   "cell_type": "code",
   "execution_count": 19,
   "id": "c2d64718",
   "metadata": {},
   "outputs": [],
   "source": [
    "def model_eval(y_true, y_pred, y_pred_prob):\n",
    "    auc = roc_auc_score(y_true, y_pred_prob)\n",
    "    print(f\"AUC is: {auc:.3f}\")\n",
    "    f1 = f1_score(y_true, y_pred)\n",
    "    print(f\"f1 score is: {f1:.3f}\")\n",
    "    precision = precision_score(y_true, y_pred)\n",
    "    print(f\"Precision score is: {precision:.3f}\")\n",
    "    recall = recall_score(y_true, y_pred)\n",
    "    print(f\"Recall score is: {recall:.3f}\")\n",
    "    \n",
    "    return auc, f1, precision, recall"
   ]
  },
  {
   "cell_type": "code",
   "execution_count": 20,
   "id": "289aa0c5",
   "metadata": {},
   "outputs": [],
   "source": [
    "def hyp_parameter_tune_rf(X_train, y_train, X_valid, y_valid):\n",
    "    \n",
    "    def objective(trial):\n",
    "        \n",
    "        with mlflow.start_run():\n",
    "            \n",
    "            params = {\n",
    "                \"n_estimators\": trial.suggest_int(\"n_estimators\", 100, 1000, step=100),\n",
    "                \"max_depth\": trial.suggest_int(\"max_depth\", 3, 10),\n",
    "                \"min_samples_split\": trial.suggest_int(\"min_samples_split\", 2, 10),\n",
    "                \"min_samples_leaf\": trial.suggest_int(\"min_samples_leaf\", 1, 10),\n",
    "                \"max_features\": trial.suggest_categorical(\"max_features\", [\"sqrt\", \"log2\"]),\n",
    "            }\n",
    "        \n",
    "            mlflow.log_params(params)\n",
    "\n",
    "            # Create the Random Forest Classifier with the hyperparameters\n",
    "            rf = RandomForestClassifier(**params, random_state=42)\n",
    "            rf.fit(X_train, y_train)\n",
    "\n",
    "            # Evaluate the model's performance on the validation set\n",
    "            y_pred = rf.predict(X_valid)\n",
    "            y_pred_prob = rf.predict_proba(X_valid)[:, 1]\n",
    "            auc, f1, precision, recall = model_eval(y_valid, y_pred, y_pred_prob)\n",
    "            \n",
    "            metrics = {\n",
    "                \"auc\": auc,\n",
    "                \"f1_score\": f1,\n",
    "                \"precision\": precision,\n",
    "                \"recall\": recall,\n",
    "            }\n",
    "            signature = infer_signature(X_valid, y_pred)\n",
    "            mlflow.log_metrics(metrics)\n",
    "            mlflow.log_artifact(\"models/preprocessor.b\", artifact_path=\"artifact\")\n",
    "            mlflow.sklearn.log_model(rf, artifact_path=\"model\", signature=signature)\n",
    "            \n",
    "        return f1\n",
    "\n",
    "    # Create an Optuna study and optimize the objective function\n",
    "    study = optuna.create_study(direction=\"maximize\")\n",
    "    study.optimize(objective, n_trials=5)\n"
   ]
  },
  {
   "cell_type": "code",
   "execution_count": 21,
   "id": "754eaff7",
   "metadata": {},
   "outputs": [
    {
     "name": "stderr",
     "output_type": "stream",
     "text": [
      "[I 2023-07-18 15:51:18,900] A new study created in memory with name: no-name-f5d6bd81-589a-4112-9758-03ae066c395a\n"
     ]
    },
    {
     "name": "stdout",
     "output_type": "stream",
     "text": [
      "AUC is: 0.961\n",
      "f1 score is: 0.799\n",
      "Precision score is: 1.000\n",
      "Recall score is: 0.666\n"
     ]
    },
    {
     "name": "stderr",
     "output_type": "stream",
     "text": [
      "/home/mk/anaconda3/envs/mlops-venv/lib/python3.9/site-packages/_distutils_hack/__init__.py:33: UserWarning: Setuptools is replacing distutils.\n",
      "  warnings.warn(\"Setuptools is replacing distutils.\")\n",
      "[I 2023-07-18 15:51:46,190] Trial 0 finished with value: 0.7993596584845251 and parameters: {'n_estimators': 800, 'max_depth': 6, 'min_samples_split': 10, 'min_samples_leaf': 5, 'max_features': 'sqrt'}. Best is trial 0 with value: 0.7993596584845251.\n"
     ]
    },
    {
     "name": "stdout",
     "output_type": "stream",
     "text": [
      "AUC is: 0.961\n",
      "f1 score is: 0.799\n",
      "Precision score is: 1.000\n",
      "Recall score is: 0.666\n"
     ]
    },
    {
     "name": "stderr",
     "output_type": "stream",
     "text": [
      "[I 2023-07-18 15:52:16,843] Trial 1 finished with value: 0.7993596584845251 and parameters: {'n_estimators': 900, 'max_depth': 6, 'min_samples_split': 9, 'min_samples_leaf': 10, 'max_features': 'sqrt'}. Best is trial 0 with value: 0.7993596584845251.\n"
     ]
    },
    {
     "name": "stdout",
     "output_type": "stream",
     "text": [
      "AUC is: 0.950\n",
      "f1 score is: 0.716\n",
      "Precision score is: 1.000\n",
      "Recall score is: 0.558\n"
     ]
    },
    {
     "name": "stderr",
     "output_type": "stream",
     "text": [
      "[I 2023-07-18 15:52:23,527] Trial 2 finished with value: 0.7164860239589275 and parameters: {'n_estimators': 300, 'max_depth': 3, 'min_samples_split': 2, 'min_samples_leaf': 3, 'max_features': 'log2'}. Best is trial 0 with value: 0.7993596584845251.\n"
     ]
    },
    {
     "name": "stdout",
     "output_type": "stream",
     "text": [
      "AUC is: 0.970\n",
      "f1 score is: 0.799\n",
      "Precision score is: 1.000\n",
      "Recall score is: 0.666\n"
     ]
    },
    {
     "name": "stderr",
     "output_type": "stream",
     "text": [
      "[I 2023-07-18 15:53:20,982] Trial 3 finished with value: 0.7993596584845251 and parameters: {'n_estimators': 1000, 'max_depth': 9, 'min_samples_split': 4, 'min_samples_leaf': 2, 'max_features': 'sqrt'}. Best is trial 0 with value: 0.7993596584845251.\n"
     ]
    },
    {
     "name": "stdout",
     "output_type": "stream",
     "text": [
      "AUC is: 0.953\n",
      "f1 score is: 0.799\n",
      "Precision score is: 1.000\n",
      "Recall score is: 0.666\n"
     ]
    },
    {
     "name": "stderr",
     "output_type": "stream",
     "text": [
      "[I 2023-07-18 15:53:34,958] Trial 4 finished with value: 0.7993596584845251 and parameters: {'n_estimators': 600, 'max_depth': 4, 'min_samples_split': 10, 'min_samples_leaf': 1, 'max_features': 'log2'}. Best is trial 0 with value: 0.7993596584845251.\n"
     ]
    }
   ],
   "source": [
    "hyp_parameter_tune_rf(X_train, y_train, X_valid, y_valid)"
   ]
  },
  {
   "cell_type": "markdown",
   "id": "4f841e59",
   "metadata": {},
   "source": [
    "### Hyperparameter tuning of xgboost"
   ]
  },
  {
   "cell_type": "code",
   "execution_count": 22,
   "id": "70b812e9",
   "metadata": {},
   "outputs": [],
   "source": [
    "def f1_eval(y_pred, dtrain):\n",
    "    y_true = dtrain.get_label()\n",
    "    y_pred = (y_pred > 0.5).astype(int)\n",
    "    return 'f1', f1_score(y_true, y_pred)"
   ]
  },
  {
   "cell_type": "code",
   "execution_count": 23,
   "id": "1be75e83",
   "metadata": {},
   "outputs": [],
   "source": [
    "def hyp_parameter_tune_xgb(X_train, y_train, X_valid, y_valid):\n",
    "    \n",
    "    dtrain = xgb.DMatrix(X_train, label=y_train)\n",
    "    dvalid = xgb.DMatrix(X_valid, label=y_valid)\n",
    "    \n",
    "    def objective(trial):\n",
    "        \n",
    "        with mlflow.start_run():\n",
    "            \n",
    "            params = {\n",
    "                \"objective\": \"binary:logistic\",\n",
    "                \"booster\": trial.suggest_categorical(\"booster\", [\"gbtree\", \"dart\"]),\n",
    "                \"max_depth\": trial.suggest_int(\"max_depth\", 3, 10),\n",
    "                \"subsample\": trial.suggest_float(\"subsample\", 0.5, 1.0),\n",
    "                \"colsample_bytree\": trial.suggest_float(\"colsample_bytree\", 0.5, 1.0),\n",
    "                \"eta\": trial.suggest_float(\"eta\", 0.01, 0.1),\n",
    "                \"lambda\": trial.suggest_float(\"lambda\", 0.0, 1.0),\n",
    "                \"alpha\": trial.suggest_float(\"alpha\", 0.0, 1.0),\n",
    "            }\n",
    "        \n",
    "            mlflow.log_params(params)\n",
    "\n",
    "            # Create the Random Forest Classifier with the hyperparameters\n",
    "            model = xgb.train(\n",
    "                params, \n",
    "                dtrain, \n",
    "                num_boost_round=1000,\n",
    "                evals=[(dvalid, \"validation\")],\n",
    "                maximize=True, \n",
    "                feval=f1_eval, \n",
    "                early_stopping_rounds=50, \n",
    "                verbose_eval=1000,\n",
    "            )\n",
    "\n",
    "            # Evaluate the model's performance on the validation set\n",
    "            y_pred_prob = model.predict(dvalid)\n",
    "            y_pred = (y_pred_prob > 0.5).astype(int)\n",
    "            auc, f1, precision, recall = model_eval(y_valid, y_pred, y_pred_prob)\n",
    "            \n",
    "            metrics = {\n",
    "                \"auc\": auc,\n",
    "                \"f1_score\": f1,\n",
    "                \"precision\": precision,\n",
    "                \"recall\": recall,\n",
    "            }\n",
    "            signature = infer_signature(X_valid, y_pred)\n",
    "            mlflow.log_metrics(metrics)\n",
    "            mlflow.log_artifact(\"models/preprocessor.b\", artifact_path=\"artifact\")\n",
    "            mlflow.xgboost.log_model(model, artifact_path=\"model\", signature=signature)\n",
    "            \n",
    "        return -f1\n",
    "\n",
    "    # Create an Optuna study and optimize the objective function\n",
    "    study = optuna.create_study(direction=\"maximize\")\n",
    "    study.optimize(objective, n_trials=5)"
   ]
  },
  {
   "cell_type": "code",
   "execution_count": 24,
   "id": "2634f2e2",
   "metadata": {},
   "outputs": [
    {
     "name": "stderr",
     "output_type": "stream",
     "text": [
      "[I 2023-07-18 15:53:34,996] A new study created in memory with name: no-name-6431c0f1-f995-4cfe-b19b-c6f3bbfd082d\n"
     ]
    },
    {
     "name": "stdout",
     "output_type": "stream",
     "text": [
      "[0]\tvalidation-logloss:0.63313\tvalidation-f1:0.00000\n"
     ]
    },
    {
     "name": "stderr",
     "output_type": "stream",
     "text": [
      "/home/mk/anaconda3/envs/mlops-venv/lib/python3.9/site-packages/xgboost/training.py:39: UserWarning: `feval` is deprecated, use `custom_metric` instead.  They have different behavior when custom objective is also used.See https://xgboost.readthedocs.io/en/latest/tutorials/custom_metric_obj.html for details on the `custom_metric`.\n",
      "  warnings.warn(\n"
     ]
    },
    {
     "name": "stdout",
     "output_type": "stream",
     "text": [
      "[59]\tvalidation-logloss:0.10015\tvalidation-f1:0.79936\n",
      "AUC is: 0.977\n",
      "f1 score is: 0.799\n",
      "Precision score is: 1.000\n",
      "Recall score is: 0.666\n"
     ]
    },
    {
     "name": "stderr",
     "output_type": "stream",
     "text": [
      "[I 2023-07-18 15:53:38,338] Trial 0 finished with value: -0.7993596584845251 and parameters: {'booster': 'dart', 'max_depth': 3, 'subsample': 0.7059876338280962, 'colsample_bytree': 0.718506151684948, 'eta': 0.07464704421775976, 'lambda': 0.6276616389140032, 'alpha': 0.8204659901447866}. Best is trial 0 with value: -0.7993596584845251.\n"
     ]
    },
    {
     "name": "stdout",
     "output_type": "stream",
     "text": [
      "[0]\tvalidation-logloss:0.62254\tvalidation-f1:0.00000\n"
     ]
    },
    {
     "name": "stderr",
     "output_type": "stream",
     "text": [
      "/home/mk/anaconda3/envs/mlops-venv/lib/python3.9/site-packages/xgboost/training.py:39: UserWarning: `feval` is deprecated, use `custom_metric` instead.  They have different behavior when custom objective is also used.See https://xgboost.readthedocs.io/en/latest/tutorials/custom_metric_obj.html for details on the `custom_metric`.\n",
      "  warnings.warn(\n"
     ]
    },
    {
     "name": "stdout",
     "output_type": "stream",
     "text": [
      "[57]\tvalidation-logloss:0.09537\tvalidation-f1:0.79936\n",
      "AUC is: 0.978\n",
      "f1 score is: 0.799\n",
      "Precision score is: 1.000\n",
      "Recall score is: 0.666\n"
     ]
    },
    {
     "name": "stderr",
     "output_type": "stream",
     "text": [
      "[I 2023-07-18 15:53:41,364] Trial 1 finished with value: -0.7993596584845251 and parameters: {'booster': 'dart', 'max_depth': 3, 'subsample': 0.7372608890728009, 'colsample_bytree': 0.731808186499775, 'eta': 0.08843833107509119, 'lambda': 0.43425795599641726, 'alpha': 0.19623788201534864}. Best is trial 0 with value: -0.7993596584845251.\n"
     ]
    },
    {
     "name": "stdout",
     "output_type": "stream",
     "text": [
      "[0]\tvalidation-logloss:0.64790\tvalidation-f1:0.00000\n"
     ]
    },
    {
     "name": "stderr",
     "output_type": "stream",
     "text": [
      "/home/mk/anaconda3/envs/mlops-venv/lib/python3.9/site-packages/xgboost/training.py:39: UserWarning: `feval` is deprecated, use `custom_metric` instead.  They have different behavior when custom objective is also used.See https://xgboost.readthedocs.io/en/latest/tutorials/custom_metric_obj.html for details on the `custom_metric`.\n",
      "  warnings.warn(\n"
     ]
    },
    {
     "name": "stdout",
     "output_type": "stream",
     "text": [
      "[62]\tvalidation-logloss:0.10097\tvalidation-f1:0.79936\n",
      "AUC is: 0.978\n",
      "f1 score is: 0.801\n",
      "Precision score is: 0.999\n",
      "Recall score is: 0.668\n"
     ]
    },
    {
     "name": "stderr",
     "output_type": "stream",
     "text": [
      "[I 2023-07-18 15:53:45,300] Trial 2 finished with value: -0.8008519701810436 and parameters: {'booster': 'dart', 'max_depth': 6, 'subsample': 0.9308917693366472, 'colsample_bytree': 0.7924500932910952, 'eta': 0.05529284172803052, 'lambda': 0.6430453861939815, 'alpha': 0.38664796509761856}. Best is trial 0 with value: -0.7993596584845251.\n"
     ]
    },
    {
     "name": "stdout",
     "output_type": "stream",
     "text": [
      "[0]\tvalidation-logloss:0.61844\tvalidation-f1:0.00000\n"
     ]
    },
    {
     "name": "stderr",
     "output_type": "stream",
     "text": [
      "/home/mk/anaconda3/envs/mlops-venv/lib/python3.9/site-packages/xgboost/training.py:39: UserWarning: `feval` is deprecated, use `custom_metric` instead.  They have different behavior when custom objective is also used.See https://xgboost.readthedocs.io/en/latest/tutorials/custom_metric_obj.html for details on the `custom_metric`.\n",
      "  warnings.warn(\n"
     ]
    },
    {
     "name": "stdout",
     "output_type": "stream",
     "text": [
      "[53]\tvalidation-logloss:0.08812\tvalidation-f1:0.79936\n",
      "AUC is: 0.978\n",
      "f1 score is: 0.799\n",
      "Precision score is: 0.999\n",
      "Recall score is: 0.666\n"
     ]
    },
    {
     "name": "stderr",
     "output_type": "stream",
     "text": [
      "[I 2023-07-18 15:53:48,387] Trial 3 finished with value: -0.7989333333333334 and parameters: {'booster': 'dart', 'max_depth': 5, 'subsample': 0.9945256921899931, 'colsample_bytree': 0.9141791776428684, 'eta': 0.09275507396496029, 'lambda': 0.6648599673986569, 'alpha': 0.1626186034734769}. Best is trial 3 with value: -0.7989333333333334.\n"
     ]
    },
    {
     "name": "stdout",
     "output_type": "stream",
     "text": [
      "[0]\tvalidation-logloss:0.63591\tvalidation-f1:0.00000\n"
     ]
    },
    {
     "name": "stderr",
     "output_type": "stream",
     "text": [
      "/home/mk/anaconda3/envs/mlops-venv/lib/python3.9/site-packages/xgboost/training.py:39: UserWarning: `feval` is deprecated, use `custom_metric` instead.  They have different behavior when custom objective is also used.See https://xgboost.readthedocs.io/en/latest/tutorials/custom_metric_obj.html for details on the `custom_metric`.\n",
      "  warnings.warn(\n"
     ]
    },
    {
     "name": "stdout",
     "output_type": "stream",
     "text": [
      "[137]\tvalidation-logloss:0.08135\tvalidation-f1:0.80212\n",
      "AUC is: 0.981\n",
      "f1 score is: 0.805\n",
      "Precision score is: 0.983\n",
      "Recall score is: 0.682\n"
     ]
    },
    {
     "name": "stderr",
     "output_type": "stream",
     "text": [
      "[I 2023-07-18 15:53:52,313] Trial 4 finished with value: -0.8052493438320211 and parameters: {'booster': 'gbtree', 'max_depth': 9, 'subsample': 0.8535778716566426, 'colsample_bytree': 0.752552161377825, 'eta': 0.07053178338602817, 'lambda': 0.6075520956107162, 'alpha': 0.7513940300597909}. Best is trial 3 with value: -0.7989333333333334.\n"
     ]
    }
   ],
   "source": [
    "hyp_parameter_tune_xgb(X_train, y_train, X_valid, y_valid)"
   ]
  },
  {
   "cell_type": "code",
   "execution_count": null,
   "id": "a1a2bf8c",
   "metadata": {},
   "outputs": [],
   "source": []
  }
 ],
 "metadata": {
  "kernelspec": {
   "display_name": "mlops-venv",
   "language": "python",
   "name": "mlops-venv"
  },
  "language_info": {
   "codemirror_mode": {
    "name": "ipython",
    "version": 3
   },
   "file_extension": ".py",
   "mimetype": "text/x-python",
   "name": "python",
   "nbconvert_exporter": "python",
   "pygments_lexer": "ipython3",
   "version": "3.9.16"
  },
  "toc": {
   "base_numbering": 1,
   "nav_menu": {},
   "number_sections": true,
   "sideBar": true,
   "skip_h1_title": false,
   "title_cell": "Table of Contents",
   "title_sidebar": "Contents",
   "toc_cell": false,
   "toc_position": {},
   "toc_section_display": true,
   "toc_window_display": false
  }
 },
 "nbformat": 4,
 "nbformat_minor": 5
}
