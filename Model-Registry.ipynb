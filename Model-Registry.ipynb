{
 "cells": [
  {
   "cell_type": "code",
   "execution_count": 43,
   "id": "e66de88a",
   "metadata": {},
   "outputs": [],
   "source": [
    "import mlflow\n",
    "\n",
    "from mlflow.tracking import MlflowClient\n",
    "from mlflow.entities import ViewType"
   ]
  },
  {
   "cell_type": "code",
   "execution_count": 44,
   "id": "614a4d55",
   "metadata": {},
   "outputs": [],
   "source": [
    "MLFLOW_TRACKING_URI = \"sqlite:///backend.db\"\n",
    "client = MlflowClient(tracking_uri=MLFLOW_TRACKING_URI)"
   ]
  },
  {
   "cell_type": "markdown",
   "id": "75fdf52e",
   "metadata": {},
   "source": [
    "## Search Experiments"
   ]
  },
  {
   "cell_type": "code",
   "execution_count": 45,
   "id": "e7818152",
   "metadata": {},
   "outputs": [
    {
     "data": {
      "text/plain": [
       "[<Experiment: artifact_location='/home/mk/Playground/my_contrib/prefect-practice-mlops/mlruns/1', creation_time=1689672078862, experiment_id='1', last_update_time=1689672078862, lifecycle_stage='active', name='prototype', tags={}>,\n",
       " <Experiment: artifact_location='mlflow-artifacts:/0', creation_time=1689672040038, experiment_id='0', last_update_time=1689672040038, lifecycle_stage='active', name='Default', tags={}>]"
      ]
     },
     "execution_count": 45,
     "metadata": {},
     "output_type": "execute_result"
    }
   ],
   "source": [
    "client.search_experiments(view_type=1)"
   ]
  },
  {
   "cell_type": "markdown",
   "id": "dc9eb48c",
   "metadata": {},
   "source": [
    "## Choosing best model"
   ]
  },
  {
   "cell_type": "code",
   "execution_count": 63,
   "id": "86648426",
   "metadata": {},
   "outputs": [],
   "source": [
    "experiment_id = \"1\""
   ]
  },
  {
   "cell_type": "code",
   "execution_count": 64,
   "id": "f301005e",
   "metadata": {},
   "outputs": [],
   "source": [
    "best_run_info = client.search_runs(\n",
    "    experiment_ids=experiment_id,\n",
    "    run_view_type=ViewType.ACTIVE_ONLY,\n",
    "    order_by=[\"metrics.f1_score DESC\"],\n",
    "    max_results=1\n",
    ")[0]"
   ]
  },
  {
   "cell_type": "code",
   "execution_count": 65,
   "id": "0a200eca",
   "metadata": {},
   "outputs": [
    {
     "name": "stdout",
     "output_type": "stream",
     "text": [
      "Run id: fddc8bc2db554dd2bfad2a7e4e48e952, f1-score: 0.805, AUC: 0.981\n"
     ]
    }
   ],
   "source": [
    "print(f\"Run id: {best_run_info.info.run_id}, f1-score: {best_run_info.data.metrics['f1_score']:.3f}, AUC: {best_run_info.data.metrics['auc']:.3f}\")"
   ]
  },
  {
   "cell_type": "code",
   "execution_count": 66,
   "id": "a5f628bb",
   "metadata": {},
   "outputs": [],
   "source": [
    "best_run_id = best_run_info.info.run_id"
   ]
  },
  {
   "cell_type": "code",
   "execution_count": 67,
   "id": "66510576",
   "metadata": {},
   "outputs": [
    {
     "data": {
      "text/plain": [
       "'fddc8bc2db554dd2bfad2a7e4e48e952'"
      ]
     },
     "execution_count": 67,
     "metadata": {},
     "output_type": "execute_result"
    }
   ],
   "source": [
    "best_run_id"
   ]
  },
  {
   "cell_type": "markdown",
   "id": "2825b20d",
   "metadata": {},
   "source": [
    "## Registering the models"
   ]
  },
  {
   "cell_type": "code",
   "execution_count": 72,
   "id": "ab8eecec",
   "metadata": {},
   "outputs": [],
   "source": [
    "mlflow.set_tracking_uri(MLFLOW_TRACKING_URI)"
   ]
  },
  {
   "cell_type": "code",
   "execution_count": 73,
   "id": "8c08fc84",
   "metadata": {},
   "outputs": [],
   "source": [
    "model_name = \"diabetes-classifier\""
   ]
  },
  {
   "cell_type": "code",
   "execution_count": 74,
   "id": "b2289c33",
   "metadata": {},
   "outputs": [],
   "source": [
    "best_model_uri = f\"runs:/{best_run_id}/model\""
   ]
  },
  {
   "cell_type": "code",
   "execution_count": 75,
   "id": "ea3a5625",
   "metadata": {},
   "outputs": [
    {
     "data": {
      "text/plain": [
       "'runs:/fddc8bc2db554dd2bfad2a7e4e48e952/model'"
      ]
     },
     "execution_count": 75,
     "metadata": {},
     "output_type": "execute_result"
    }
   ],
   "source": [
    "best_model_uri"
   ]
  },
  {
   "cell_type": "code",
   "execution_count": 78,
   "id": "400c2731",
   "metadata": {},
   "outputs": [
    {
     "name": "stderr",
     "output_type": "stream",
     "text": [
      "Successfully registered model 'diabetes-classifier'.\n",
      "2023/07/18 16:23:54 INFO mlflow.tracking._model_registry.client: Waiting up to 300 seconds for model version to finish creation. Model name: diabetes-classifier, version 1\n",
      "Created version '1' of model 'diabetes-classifier'.\n"
     ]
    }
   ],
   "source": [
    "reg_data = mlflow.register_model(\n",
    "    model_uri=best_model_uri,\n",
    "    name=model_name\n",
    "\n",
    ")"
   ]
  },
  {
   "cell_type": "markdown",
   "id": "64810c9c",
   "metadata": {},
   "source": [
    "## Model Stage Registering"
   ]
  },
  {
   "cell_type": "code",
   "execution_count": 80,
   "id": "f150002a",
   "metadata": {},
   "outputs": [],
   "source": [
    "stage = \"production\""
   ]
  },
  {
   "cell_type": "code",
   "execution_count": 81,
   "id": "61f6d7c0",
   "metadata": {},
   "outputs": [
    {
     "data": {
      "text/plain": [
       "<ModelVersion: aliases=[], creation_timestamp=1689674034357, current_stage='Production', description=None, last_updated_timestamp=1689674127311, name='diabetes-classifier', run_id='fddc8bc2db554dd2bfad2a7e4e48e952', run_link=None, source='/home/mk/Playground/my_contrib/prefect-practice-mlops/mlruns/1/fddc8bc2db554dd2bfad2a7e4e48e952/artifacts/model', status='READY', status_message=None, tags={}, user_id=None, version=1>"
      ]
     },
     "execution_count": 81,
     "metadata": {},
     "output_type": "execute_result"
    }
   ],
   "source": [
    "client.transition_model_version_stage(\n",
    "    name = model_name,\n",
    "    version = reg_data.version,\n",
    "    stage = stage,\n",
    "    archive_existing_versions=False\n",
    "\n",
    ")"
   ]
  },
  {
   "cell_type": "markdown",
   "id": "c380121d",
   "metadata": {},
   "source": [
    "## Update model description"
   ]
  },
  {
   "cell_type": "code",
   "execution_count": 82,
   "id": "dc2b5c95",
   "metadata": {},
   "outputs": [],
   "source": [
    "from datetime import datetime"
   ]
  },
  {
   "cell_type": "code",
   "execution_count": 85,
   "id": "8d1040ca",
   "metadata": {},
   "outputs": [],
   "source": [
    "date = datetime.today().date()"
   ]
  },
  {
   "cell_type": "code",
   "execution_count": 86,
   "id": "8a1479f6",
   "metadata": {},
   "outputs": [
    {
     "data": {
      "text/plain": [
       "datetime.date(2023, 7, 18)"
      ]
     },
     "execution_count": 86,
     "metadata": {},
     "output_type": "execute_result"
    }
   ],
   "source": [
    "date"
   ]
  },
  {
   "cell_type": "code",
   "execution_count": 88,
   "id": "a69a4284",
   "metadata": {},
   "outputs": [
    {
     "data": {
      "text/plain": [
       "<ModelVersion: aliases=[], creation_timestamp=1689674034357, current_stage='Production', description='The model version 1 was transition to production on 2023-07-18', last_updated_timestamp=1689674268348, name='diabetes-classifier', run_id='fddc8bc2db554dd2bfad2a7e4e48e952', run_link=None, source='/home/mk/Playground/my_contrib/prefect-practice-mlops/mlruns/1/fddc8bc2db554dd2bfad2a7e4e48e952/artifacts/model', status='READY', status_message=None, tags={}, user_id=None, version=1>"
      ]
     },
     "execution_count": 88,
     "metadata": {},
     "output_type": "execute_result"
    }
   ],
   "source": [
    "client.update_model_version(\n",
    "    name=model_name,\n",
    "    version=reg_data.version,\n",
    "    description=f\"The model version {reg_data.version} was transition to {stage} on {date}\"\n",
    ")"
   ]
  },
  {
   "cell_type": "code",
   "execution_count": null,
   "id": "a1b0dbd1",
   "metadata": {},
   "outputs": [],
   "source": []
  }
 ],
 "metadata": {
  "kernelspec": {
   "display_name": "mlops-venv",
   "language": "python",
   "name": "mlops-venv"
  },
  "language_info": {
   "codemirror_mode": {
    "name": "ipython",
    "version": 3
   },
   "file_extension": ".py",
   "mimetype": "text/x-python",
   "name": "python",
   "nbconvert_exporter": "python",
   "pygments_lexer": "ipython3",
   "version": "3.9.16"
  },
  "toc": {
   "base_numbering": 1,
   "nav_menu": {},
   "number_sections": true,
   "sideBar": true,
   "skip_h1_title": false,
   "title_cell": "Table of Contents",
   "title_sidebar": "Contents",
   "toc_cell": false,
   "toc_position": {},
   "toc_section_display": true,
   "toc_window_display": false
  }
 },
 "nbformat": 4,
 "nbformat_minor": 5
}
